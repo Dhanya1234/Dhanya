{
  "nbformat": 4,
  "nbformat_minor": 0,
  "metadata": {
    "colab": {
      "name": "Assignment 1_area of circle. py",
      "provenance": [],
      "collapsed_sections": [],
      "include_colab_link": true
    },
    "kernelspec": {
      "display_name": "Python 3",
      "name": "python3"
    }
  },
  "cells": [
    {
      "cell_type": "markdown",
      "metadata": {
        "id": "view-in-github",
        "colab_type": "text"
      },
      "source": [
        "<a href=\"https://colab.research.google.com/github/Dhanya1234/Dhanya/blob/master/Assignment_1_area_of_circle_py.ipynb\" target=\"_parent\"><img src=\"https://colab.research.google.com/assets/colab-badge.svg\" alt=\"Open In Colab\"/></a>"
      ]
    },
    {
      "cell_type": "code",
      "metadata": {
        "id": "fH7ib7I7scm2",
        "colab_type": "code",
        "colab": {
          "base_uri": "https://localhost:8080/",
          "height": 51
        },
        "outputId": "9b8e28b9-5935-4f10-fab9-298fbf184a68"
      },
      "source": [
        "r=input(\"enter the value \") \n",
        "Pi=3.142\n",
        "area=(float(r)*float(r)*Pi) \n",
        "print(area)"
      ],
      "execution_count": 3,
      "outputs": [
        {
          "output_type": "stream",
          "text": [
            "enter the value 10.0\n",
            "314.2\n"
          ],
          "name": "stdout"
        }
      ]
    }
  ]
}