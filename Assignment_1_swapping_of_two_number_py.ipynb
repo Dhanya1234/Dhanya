{
  "nbformat": 4,
  "nbformat_minor": 0,
  "metadata": {
    "colab": {
      "name": "Assignment 1 swapping of two number. py",
      "provenance": [],
      "collapsed_sections": [],
      "include_colab_link": true
    },
    "kernelspec": {
      "display_name": "Python 3",
      "name": "python3"
    }
  },
  "cells": [
    {
      "cell_type": "markdown",
      "metadata": {
        "id": "view-in-github",
        "colab_type": "text"
      },
      "source": [
        "<a href=\"https://colab.research.google.com/github/Dhanya1234/Dhanya/blob/master/Assignment_1_swapping_of_two_number_py.ipynb\" target=\"_parent\"><img src=\"https://colab.research.google.com/assets/colab-badge.svg\" alt=\"Open In Colab\"/></a>"
      ]
    },
    {
      "cell_type": "code",
      "metadata": {
        "id": "tTn_T-MH31nA",
        "colab_type": "code",
        "colab": {
          "base_uri": "https://localhost:8080/",
          "height": 119
        },
        "outputId": "30bf15b0-2252-4ecc-cb78-89358eac0123"
      },
      "source": [
        "a=input(\"enter first number \") \n",
        "b=input(\"enter second number\") \n",
        "print(\" Value of a before swapping:\", a) \n",
        "print(\" Value of b before swapping:\", b) \n",
        "temp= a\n",
        "a=b\n",
        "b= temp\n",
        "print(\" Value of a after swapping:\", a) \n",
        "print(\" Value of b after swapping:\", b)"
      ],
      "execution_count": null,
      "outputs": [
        {
          "output_type": "stream",
          "text": [
            "enter first number 10\n",
            "enter second number20\n",
            " Value of a before swapping: 10\n",
            " Value of b before swapping: 20\n",
            " Value of a after swapping: 20\n",
            " Value of b after swapping: 10\n"
          ],
          "name": "stdout"
        }
      ]
    }
  ]
}