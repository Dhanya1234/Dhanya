{
  "nbformat": 4,
  "nbformat_minor": 0,
  "metadata": {
    "colab": {
      "name": "Assignment 3_ eligible for voting are not. py",
      "provenance": [],
      "collapsed_sections": [],
      "include_colab_link": true
    },
    "kernelspec": {
      "display_name": "Python 3",
      "name": "python3"
    }
  },
  "cells": [
    {
      "cell_type": "markdown",
      "metadata": {
        "id": "view-in-github",
        "colab_type": "text"
      },
      "source": [
        "<a href=\"https://colab.research.google.com/github/Dhanya1234/Dhanya/blob/master/Assignment_3__eligible_for_voting_are_not_py.ipynb\" target=\"_parent\"><img src=\"https://colab.research.google.com/assets/colab-badge.svg\" alt=\"Open In Colab\"/></a>"
      ]
    },
    {
      "cell_type": "code",
      "metadata": {
        "id": "qkag7BdygMg8",
        "colab_type": "code",
        "colab": {
          "base_uri": "https://localhost:8080/",
          "height": 51
        },
        "outputId": "b2556081-8f01-4148-e320-899eb7a9e7bd"
      },
      "source": [
        "age=int(input(\"enter a number\"))\n",
        "if(age>=18):\n",
        " print(\"eligible for voting \") \n",
        "else:\n",
        " print(\" not eligible for voting \")"
      ],
      "execution_count": null,
      "outputs": [
        {
          "output_type": "stream",
          "text": [
            "enter a number20\n",
            "eligible for voting \n"
          ],
          "name": "stdout"
        }
      ]
    }
  ]
}