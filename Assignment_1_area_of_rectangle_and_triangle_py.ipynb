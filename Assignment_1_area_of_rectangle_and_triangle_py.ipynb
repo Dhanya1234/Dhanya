{
  "nbformat": 4,
  "nbformat_minor": 0,
  "metadata": {
    "colab": {
      "name": "Assignment 1 area of rectangle and triangle. py",
      "provenance": [],
      "collapsed_sections": [],
      "include_colab_link": true
    },
    "kernelspec": {
      "display_name": "Python 3",
      "name": "python3"
    }
  },
  "cells": [
    {
      "cell_type": "markdown",
      "metadata": {
        "id": "view-in-github",
        "colab_type": "text"
      },
      "source": [
        "<a href=\"https://colab.research.google.com/github/Dhanya1234/Dhanya/blob/master/Assignment_1_area_of_rectangle_and_triangle_py.ipynb\" target=\"_parent\"><img src=\"https://colab.research.google.com/assets/colab-badge.svg\" alt=\"Open In Colab\"/></a>"
      ]
    },
    {
      "cell_type": "code",
      "metadata": {
        "id": "BTytZRYCyyOh",
        "colab_type": "code",
        "colab": {
          "base_uri": "https://localhost:8080/",
          "height": 34
        },
        "outputId": "916a2c0f-990e-4f70-c9db-254461fb6dde"
      },
      "source": [
        "w=25\n",
        "h=45\n",
        "area=int(w)*int(h) \n",
        "print(area)"
      ],
      "execution_count": 1,
      "outputs": [
        {
          "output_type": "stream",
          "text": [
            "1125\n"
          ],
          "name": "stdout"
        }
      ]
    },
    {
      "cell_type": "code",
      "metadata": {
        "id": "x-fzbAHWzm1T",
        "colab_type": "code",
        "colab": {
          "base_uri": "https://localhost:8080/",
          "height": 34
        },
        "outputId": "872c81ea-5c6d-4c15-9803-682b77ff03f1"
      },
      "source": [
        "b=155\n",
        "h=10\n",
        "area=(float(b)*float(h))/2\n",
        "print(area)"
      ],
      "execution_count": 2,
      "outputs": [
        {
          "output_type": "stream",
          "text": [
            "775.0\n"
          ],
          "name": "stdout"
        }
      ]
    }
  ]
}